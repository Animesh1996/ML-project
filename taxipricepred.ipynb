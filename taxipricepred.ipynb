{
 "cells": [
  {
   "cell_type": "code",
   "execution_count": 1,
   "id": "d61c94ce",
   "metadata": {},
   "outputs": [],
   "source": [
    "import pandas as pd\n",
    "import seaborn as sns\n",
    "import numpy as np\n",
    "import datetime\n",
    "import numpy as np\n",
    "import math\n",
    "import matplotlib.pyplot as plt"
   ]
  },
  {
   "cell_type": "code",
   "execution_count": 2,
   "id": "68413906",
   "metadata": {},
   "outputs": [],
   "source": [
    "from sklearn.metrics.pairwise import haversine_distances\n"
   ]
  },
  {
   "cell_type": "code",
   "execution_count": 3,
   "id": "93b71d60",
   "metadata": {},
   "outputs": [],
   "source": [
    "df=pd.read_csv(\"taxipricedata.csv\", nrows=100000)\n"
   ]
  },
  {
   "cell_type": "code",
   "execution_count": 4,
   "id": "fa15d90a",
   "metadata": {},
   "outputs": [
    {
     "name": "stdout",
     "output_type": "stream",
     "text": [
      "       key  fare_amount          pickup_datetime  pickup_longitude  \\\n",
      "0  26:21.0          4.5  2009-06-15 17:26:21 UTC        -73.844311   \n",
      "1  52:16.0         16.9  2010-01-05 16:52:16 UTC        -74.016048   \n",
      "2  35:00.0          5.7  2011-08-18 00:35:00 UTC        -73.982738   \n",
      "3  30:42.0          7.7  2012-04-21 04:30:42 UTC        -73.987130   \n",
      "4  51:00.0          5.3  2010-03-09 07:51:00 UTC        -73.968095   \n",
      "\n",
      "   pickup_latitude  dropoff_longitude  dropoff_latitude  passenger_count  \n",
      "0        40.721319         -73.841610         40.712278                1  \n",
      "1        40.711303         -73.979268         40.782004                1  \n",
      "2        40.761270         -73.991242         40.750562                2  \n",
      "3        40.733143         -73.991567         40.758092                1  \n",
      "4        40.768008         -73.956655         40.783762                1  \n",
      "(100000, 8)\n"
     ]
    }
   ],
   "source": [
    "print(df.head(5))\n",
    "print(df.shape)\n"
   ]
  },
  {
   "cell_type": "code",
   "execution_count": 5,
   "id": "5aab0418",
   "metadata": {},
   "outputs": [
    {
     "name": "stdout",
     "output_type": "stream",
     "text": [
      "<class 'pandas.core.frame.DataFrame'>\n",
      "RangeIndex: 100000 entries, 0 to 99999\n",
      "Data columns (total 8 columns):\n",
      " #   Column             Non-Null Count   Dtype  \n",
      "---  ------             --------------   -----  \n",
      " 0   key                100000 non-null  object \n",
      " 1   fare_amount        100000 non-null  float64\n",
      " 2   pickup_datetime    100000 non-null  object \n",
      " 3   pickup_longitude   100000 non-null  float64\n",
      " 4   pickup_latitude    100000 non-null  float64\n",
      " 5   dropoff_longitude  100000 non-null  float64\n",
      " 6   dropoff_latitude   100000 non-null  float64\n",
      " 7   passenger_count    100000 non-null  int64  \n",
      "dtypes: float64(5), int64(1), object(2)\n",
      "memory usage: 6.1+ MB\n",
      "None\n"
     ]
    }
   ],
   "source": [
    "print(df.info())"
   ]
  },
  {
   "cell_type": "code",
   "execution_count": 6,
   "id": "f5031e53",
   "metadata": {},
   "outputs": [],
   "source": [
    "df['pickup_datetime'] = pd.to_datetime(df['pickup_datetime'])-datetime.timedelta(hours=4)\n"
   ]
  },
  {
   "cell_type": "code",
   "execution_count": 7,
   "id": "2a87de43",
   "metadata": {},
   "outputs": [
    {
     "name": "stdout",
     "output_type": "stream",
     "text": [
      "<class 'pandas.core.frame.DataFrame'>\n",
      "RangeIndex: 100000 entries, 0 to 99999\n",
      "Data columns (total 8 columns):\n",
      " #   Column             Non-Null Count   Dtype              \n",
      "---  ------             --------------   -----              \n",
      " 0   key                100000 non-null  object             \n",
      " 1   fare_amount        100000 non-null  float64            \n",
      " 2   pickup_datetime    100000 non-null  datetime64[ns, UTC]\n",
      " 3   pickup_longitude   100000 non-null  float64            \n",
      " 4   pickup_latitude    100000 non-null  float64            \n",
      " 5   dropoff_longitude  100000 non-null  float64            \n",
      " 6   dropoff_latitude   100000 non-null  float64            \n",
      " 7   passenger_count    100000 non-null  int64              \n",
      "dtypes: datetime64[ns, UTC](1), float64(5), int64(1), object(1)\n",
      "memory usage: 6.1+ MB\n",
      "None\n",
      "       key  fare_amount           pickup_datetime  pickup_longitude  \\\n",
      "0  26:21.0          4.5 2009-06-15 13:26:21+00:00        -73.844311   \n",
      "1  52:16.0         16.9 2010-01-05 12:52:16+00:00        -74.016048   \n",
      "2  35:00.0          5.7 2011-08-17 20:35:00+00:00        -73.982738   \n",
      "3  30:42.0          7.7 2012-04-21 00:30:42+00:00        -73.987130   \n",
      "4  51:00.0          5.3 2010-03-09 03:51:00+00:00        -73.968095   \n",
      "\n",
      "   pickup_latitude  dropoff_longitude  dropoff_latitude  passenger_count  \n",
      "0        40.721319         -73.841610         40.712278                1  \n",
      "1        40.711303         -73.979268         40.782004                1  \n",
      "2        40.761270         -73.991242         40.750562                2  \n",
      "3        40.733143         -73.991567         40.758092                1  \n",
      "4        40.768008         -73.956655         40.783762                1  \n"
     ]
    }
   ],
   "source": [
    "print(df.info())\n",
    "print(df.head(5))"
   ]
  },
  {
   "cell_type": "code",
   "execution_count": 8,
   "id": "92ba2fc4",
   "metadata": {},
   "outputs": [],
   "source": [
    "df[\"Year\"] = df[\"pickup_datetime\"].dt.year\n",
    "df[\"Month\"] = df[\"pickup_datetime\"].dt.month\n",
    "df[\"Day\"] = df[\"pickup_datetime\"].dt.day\n",
    "df[\"Hours\"] = df[\"pickup_datetime\"].dt.hour\n",
    "df[\"Minute\"] = df[\"pickup_datetime\"].dt.minute"
   ]
  },
  {
   "cell_type": "code",
   "execution_count": 9,
   "id": "cf8f3650",
   "metadata": {},
   "outputs": [],
   "source": [
    "df[\"mornight\"] = np.where(df[\"Hours\"]<12,0,1)"
   ]
  },
  {
   "cell_type": "code",
   "execution_count": 10,
   "id": "66fbfd53",
   "metadata": {},
   "outputs": [],
   "source": [
    "df.drop(\"pickup_datetime\", axis=1,inplace=True)"
   ]
  },
  {
   "cell_type": "code",
   "execution_count": 11,
   "id": "b4c0d820",
   "metadata": {},
   "outputs": [],
   "source": [
    "df.drop(\"key\", axis=1, inplace=True)"
   ]
  },
  {
   "cell_type": "code",
   "execution_count": 12,
   "id": "cc44ef48",
   "metadata": {},
   "outputs": [
    {
     "name": "stdout",
     "output_type": "stream",
     "text": [
      "   fare_amount  pickup_longitude  pickup_latitude  dropoff_longitude  \\\n",
      "0          4.5        -73.844311        40.721319         -73.841610   \n",
      "1         16.9        -74.016048        40.711303         -73.979268   \n",
      "2          5.7        -73.982738        40.761270         -73.991242   \n",
      "3          7.7        -73.987130        40.733143         -73.991567   \n",
      "4          5.3        -73.968095        40.768008         -73.956655   \n",
      "\n",
      "   dropoff_latitude  passenger_count  Year  Month  Day  Hours  Minute  \\\n",
      "0         40.712278                1  2009      6   15     13      26   \n",
      "1         40.782004                1  2010      1    5     12      52   \n",
      "2         40.750562                2  2011      8   17     20      35   \n",
      "3         40.758092                1  2012      4   21      0      30   \n",
      "4         40.783762                1  2010      3    9      3      51   \n",
      "\n",
      "   mornight  \n",
      "0         1  \n",
      "1         1  \n",
      "2         1  \n",
      "3         0  \n",
      "4         0  \n"
     ]
    }
   ],
   "source": [
    "print(df.head(5))"
   ]
  },
  {
   "cell_type": "code",
   "execution_count": 13,
   "id": "0e2da23c",
   "metadata": {},
   "outputs": [],
   "source": [
    "from math import radians, cos, sin, asin, sqrt\n",
    "##def haversine_distances(df):"
   ]
  },
  {
   "cell_type": "code",
   "execution_count": 14,
   "id": "aa60e8b3",
   "metadata": {},
   "outputs": [
    {
     "name": "stdout",
     "output_type": "stream",
     "text": [
      "<class 'pandas.core.series.Series'>\n"
     ]
    }
   ],
   "source": [
    "lat1=np.radians(df[\"pickup_latitude\"]).astype(float)\n",
    "print(type(lat1))"
   ]
  },
  {
   "cell_type": "code",
   "execution_count": 16,
   "id": "ad2ee2ed",
   "metadata": {},
   "outputs": [],
   "source": [
    "lat2=np.radians(df[\"dropoff_latitude\"]).astype(float)\n",
    "dlat= np.radians(df[\"dropoff_latitude\"]-df[\"dropoff_latitude\"]).astype(float)\n",
    "dlong=np.radians(df[\"dropoff_longitude\"]-df[\"pickup_longitude\"]).astype(float)\n",
    "a = np.sin(dlat/2)**2 + np.cos(lat1) * np.cos(lat2) * np.sin(dlong/2)**2\n",
    "c = 2 * np.arctan2(np.sqrt(a),np.sqrt(1-a))\n",
    "r = 6371 # Radius of earth in kilometers. Use 3956 for miles. Determines return value units.\n",
    "haver=c * r"
   ]
  },
  {
   "cell_type": "code",
   "execution_count": 17,
   "id": "c42c6a02",
   "metadata": {},
   "outputs": [],
   "source": [
    "df[\"Total distance\"] = haver\n"
   ]
  },
  {
   "cell_type": "code",
   "execution_count": 18,
   "id": "43665875",
   "metadata": {},
   "outputs": [
    {
     "name": "stdout",
     "output_type": "stream",
     "text": [
      "       pickup_longitude  pickup_latitude  dropoff_longitude  dropoff_latitude  \\\n",
      "0            -73.844311        40.721319         -73.841610         40.712278   \n",
      "1            -74.016048        40.711303         -73.979268         40.782004   \n",
      "2            -73.982738        40.761270         -73.991242         40.750562   \n",
      "3            -73.987130        40.733143         -73.991567         40.758092   \n",
      "4            -73.968095        40.768008         -73.956655         40.783762   \n",
      "...                 ...              ...                ...               ...   \n",
      "99995        -73.947977        40.784792         -73.964262         40.792347   \n",
      "99996        -73.962918        40.799107         -73.974178         40.786487   \n",
      "99997        -73.996773        40.723549         -73.991974         40.724724   \n",
      "99998        -73.983652        40.756667         -73.982715         40.767067   \n",
      "99999        -73.975663        40.791653         -73.982267         40.774968   \n",
      "\n",
      "       passenger_count  Year  Month  \n",
      "0                    1  2009      6  \n",
      "1                    1  2010      1  \n",
      "2                    2  2011      8  \n",
      "3                    1  2012      4  \n",
      "4                    1  2010      3  \n",
      "...                ...   ...    ...  \n",
      "99995                5  2013      9  \n",
      "99996                1  2014      5  \n",
      "99997                1  2015      2  \n",
      "99998                4  2009     10  \n",
      "99999                1  2010     11  \n",
      "\n",
      "[100000 rows x 7 columns]\n"
     ]
    }
   ],
   "source": [
    "x=df.iloc[:,[1,2,3,4,5,6,7]]\n",
    "print(x)\n"
   ]
  },
  {
   "cell_type": "code",
   "execution_count": 19,
   "id": "749000a6",
   "metadata": {},
   "outputs": [
    {
     "name": "stdout",
     "output_type": "stream",
     "text": [
      "0         4.5\n",
      "1        16.9\n",
      "2         5.7\n",
      "3         7.7\n",
      "4         5.3\n",
      "         ... \n",
      "99995     9.0\n",
      "99996     6.0\n",
      "99997     5.0\n",
      "99998     6.9\n",
      "99999     5.7\n",
      "Name: fare_amount, Length: 100000, dtype: float64\n"
     ]
    }
   ],
   "source": [
    "y=df.iloc[:,0]\n",
    "print(y)"
   ]
  },
  {
   "cell_type": "code",
   "execution_count": 20,
   "id": "5c3a7fd9",
   "metadata": {},
   "outputs": [
    {
     "name": "stdout",
     "output_type": "stream",
     "text": [
      "fare_amount          0\n",
      "pickup_longitude     0\n",
      "pickup_latitude      0\n",
      "dropoff_longitude    0\n",
      "dropoff_latitude     0\n",
      "passenger_count      0\n",
      "Year                 0\n",
      "Month                0\n",
      "Day                  0\n",
      "Hours                0\n",
      "Minute               0\n",
      "mornight             0\n",
      "Total distance       0\n",
      "dtype: int64\n"
     ]
    }
   ],
   "source": [
    "print(df.isnull().sum())"
   ]
  },
  {
   "cell_type": "code",
   "execution_count": 21,
   "id": "12345c78",
   "metadata": {},
   "outputs": [],
   "source": [
    "from sklearn.model_selection import train_test_split\n",
    "X_train, X_test, y_train, y_test = train_test_split(x, y, test_size=0.3, random_state=0)\n"
   ]
  },
  {
   "cell_type": "code",
   "execution_count": 22,
   "id": "43505e34",
   "metadata": {},
   "outputs": [
    {
     "name": "stdout",
     "output_type": "stream",
     "text": [
      "       pickup_longitude  pickup_latitude  dropoff_longitude  dropoff_latitude  \\\n",
      "42865        -73.991920        40.737876         -74.001000         40.736213   \n",
      "91446        -73.967893        40.802332         -73.949392         40.802367   \n",
      "66374        -73.952307        40.778254         -73.962754         40.775510   \n",
      "79106        -73.945372        40.774302         -73.953233         40.782567   \n",
      "13404        -73.976969        40.754250         -73.963498         40.770816   \n",
      "...                 ...              ...                ...               ...   \n",
      "21243        -74.005157        40.748157         -73.975639         40.749119   \n",
      "45891        -73.959932        40.763665         -73.981843         40.777745   \n",
      "42613        -73.985142        40.732463         -73.996279         40.737135   \n",
      "43567        -73.786035        40.641653         -73.977947         40.752295   \n",
      "68268        -73.789683        40.647283         -73.947907         40.780490   \n",
      "\n",
      "       passenger_count  Year  Month  \n",
      "42865                1  2013      2  \n",
      "91446                1  2011     12  \n",
      "66374                3  2009     12  \n",
      "79106                5  2012      2  \n",
      "13404                1  2013     10  \n",
      "...                ...   ...    ...  \n",
      "21243                3  2015      6  \n",
      "45891                1  2012      6  \n",
      "42613                1  2013     12  \n",
      "43567                1  2009     12  \n",
      "68268                2  2011      1  \n",
      "\n",
      "[70000 rows x 7 columns]\n",
      "<bound method DataFrame.info of        pickup_longitude  pickup_latitude  dropoff_longitude  dropoff_latitude  \\\n",
      "42865        -73.991920        40.737876         -74.001000         40.736213   \n",
      "91446        -73.967893        40.802332         -73.949392         40.802367   \n",
      "66374        -73.952307        40.778254         -73.962754         40.775510   \n",
      "79106        -73.945372        40.774302         -73.953233         40.782567   \n",
      "13404        -73.976969        40.754250         -73.963498         40.770816   \n",
      "...                 ...              ...                ...               ...   \n",
      "21243        -74.005157        40.748157         -73.975639         40.749119   \n",
      "45891        -73.959932        40.763665         -73.981843         40.777745   \n",
      "42613        -73.985142        40.732463         -73.996279         40.737135   \n",
      "43567        -73.786035        40.641653         -73.977947         40.752295   \n",
      "68268        -73.789683        40.647283         -73.947907         40.780490   \n",
      "\n",
      "       passenger_count  Year  Month  \n",
      "42865                1  2013      2  \n",
      "91446                1  2011     12  \n",
      "66374                3  2009     12  \n",
      "79106                5  2012      2  \n",
      "13404                1  2013     10  \n",
      "...                ...   ...    ...  \n",
      "21243                3  2015      6  \n",
      "45891                1  2012      6  \n",
      "42613                1  2013     12  \n",
      "43567                1  2009     12  \n",
      "68268                2  2011      1  \n",
      "\n",
      "[70000 rows x 7 columns]>\n",
      "42865     7.5\n",
      "91446     6.5\n",
      "66374     5.7\n",
      "79106     6.1\n",
      "13404     7.5\n",
      "         ... \n",
      "21243    12.5\n",
      "45891     9.3\n",
      "42613     5.0\n",
      "43567    50.5\n",
      "68268    49.8\n",
      "Name: fare_amount, Length: 70000, dtype: float64\n"
     ]
    }
   ],
   "source": [
    "print(X_train)\n",
    "print(X_train.info)\n",
    "print(y_train)"
   ]
  },
  {
   "cell_type": "code",
   "execution_count": 23,
   "id": "7ba9f25a",
   "metadata": {},
   "outputs": [
    {
     "name": "stdout",
     "output_type": "stream",
     "text": [
      "[[-0.13825521  0.13072181 -0.14403065 ... -0.52152926  0.67553437\n",
      "  -1.2341314 ]\n",
      " [-0.1360229   0.1409961  -0.13909902 ... -0.52152926 -0.39715592\n",
      "   1.65981427]\n",
      " [-0.13457483  0.13715807 -0.14037589 ...  1.00804225 -1.46984621\n",
      "   1.65981427]\n",
      " ...\n",
      " [-0.13762548  0.12985897 -0.14357951 ... -0.52152926  0.67553437\n",
      "   1.65981427]\n",
      " [-0.11912677  0.11538384 -0.14182772 ... -0.52152926 -1.46984621\n",
      "   1.65981427]\n",
      " [-0.1194657   0.11628127 -0.13895712 ...  0.2432565  -0.39715592\n",
      "  -1.52352597]]\n"
     ]
    }
   ],
   "source": [
    "from sklearn.preprocessing import StandardScaler\n",
    "scaler=StandardScaler()\n",
    "df_train_scaled=scaler.fit_transform(X_train)\n",
    "print(df_train_scaled)"
   ]
  },
  {
   "cell_type": "code",
   "execution_count": 24,
   "id": "84b4b0ff",
   "metadata": {},
   "outputs": [
    {
     "name": "stdout",
     "output_type": "stream",
     "text": [
      "[[-0.13723006  0.13506801 -0.14408225 ... -0.52152926  1.21187952\n",
      "  -0.65534227]\n",
      " [-0.1379855   0.128129   -0.1414537  ... -0.52152926 -1.46984621\n",
      "   0.21284144]\n",
      " [-0.13658258  0.134721   -0.14307553 ...  0.2432565   1.21187952\n",
      "   0.502236  ]\n",
      " ...\n",
      " [-0.13600134  0.1329939  -0.14380799 ... -0.52152926  0.13918923\n",
      "   0.502236  ]\n",
      " [-0.13671126  0.13455921 -0.13979097 ...  0.2432565  -0.39715592\n",
      "  -0.65534227]\n",
      " [-0.14057598  0.12590244 -0.14468019 ... -0.52152926  1.74822466\n",
      "  -0.94473683]]\n"
     ]
    }
   ],
   "source": [
    "df_test_scaled=scaler.transform(X_test)\n",
    "print(df_test_scaled)"
   ]
  },
  {
   "cell_type": "code",
   "execution_count": 25,
   "id": "dfe8e2a9",
   "metadata": {},
   "outputs": [
    {
     "data": {
      "text/plain": [
       "LinearRegression()"
      ]
     },
     "execution_count": 25,
     "metadata": {},
     "output_type": "execute_result"
    }
   ],
   "source": [
    "#Linear regression model\n",
    "from sklearn.linear_model import LinearRegression\n",
    "regressor = LinearRegression()\n",
    "regressor.fit(df_train_scaled, y_train)"
   ]
  },
  {
   "cell_type": "code",
   "execution_count": 26,
   "id": "8ad5dd82",
   "metadata": {},
   "outputs": [
    {
     "name": "stdout",
     "output_type": "stream",
     "text": [
      "3582     13.5\n",
      "60498     6.1\n",
      "53227    17.0\n",
      "21333     4.1\n",
      "3885     16.0\n",
      "Name: fare_amount, dtype: float64\n",
      "[12.4959329   9.62847814 13.04363095 ... 11.67397546 10.65012249\n",
      " 13.02276968]\n"
     ]
    }
   ],
   "source": [
    "# Predicting the Test set results for linear regression\n",
    "y_pred = regressor.predict(df_test_scaled)\n",
    "print(y_test.head(5))\n",
    "print(y_pred)"
   ]
  },
  {
   "cell_type": "code",
   "execution_count": 29,
   "id": "2ac6bd2d",
   "metadata": {},
   "outputs": [
    {
     "name": "stdout",
     "output_type": "stream",
     "text": [
      "R-Square value with linear reg 0.015059743750562626\n"
     ]
    },
    {
     "name": "stderr",
     "output_type": "stream",
     "text": [
      "C:\\Users\\shaha\\anaconda3\\lib\\site-packages\\seaborn\\distributions.py:2619: FutureWarning: `distplot` is a deprecated function and will be removed in a future version. Please adapt your code to use either `displot` (a figure-level function with similar flexibility) or `histplot` (an axes-level function for histograms).\n",
      "  warnings.warn(msg, FutureWarning)\n"
     ]
    },
    {
     "data": {
      "text/plain": [
       "<matplotlib.collections.PathCollection at 0x2b2e0982a60>"
      ]
     },
     "execution_count": 29,
     "metadata": {},
     "output_type": "execute_result"
    },
    {
     "data": {
      "image/png": "[encoded data removed]",
      "text/plain": [
       "<Figure size 640x480 with 1 Axes>"
      ]
     },
     "metadata": {},
     "output_type": "display_data"
    }
   ],
   "source": [
    "from sklearn.metrics import r2_score\n",
    "score2_l = r2_score(y_test,y_pred)\n",
    "print(\"R-Square value with linear reg\", score2_l)\n",
    "sns.distplot(y_test-y_pred)\n",
    "plt.scatter(y_test,y_pred)\n"
   ]
  },
  {
   "cell_type": "code",
   "execution_count": 30,
   "id": "5d7c2f30",
   "metadata": {},
   "outputs": [],
   "source": [
    "from sklearn.ensemble import RandomForestRegressor\n",
    "regressorRF=RandomForestRegressor()\n",
    "regressorRF.fit(df_train_scaled, y_train)\n",
    "y_predrf= regressorRF.predict(df_test_scaled)\n"
   ]
  },
  {
   "cell_type": "code",
   "execution_count": 31,
   "id": "407f3140",
   "metadata": {},
   "outputs": [
    {
     "name": "stdout",
     "output_type": "stream",
     "text": [
      "R-Square value with Random forest reg 0.7878988704964469\n"
     ]
    },
    {
     "name": "stderr",
     "output_type": "stream",
     "text": [
      "C:\\Users\\shaha\\anaconda3\\lib\\site-packages\\seaborn\\distributions.py:2619: FutureWarning: `distplot` is a deprecated function and will be removed in a future version. Please adapt your code to use either `displot` (a figure-level function with similar flexibility) or `histplot` (an axes-level function for histograms).\n",
      "  warnings.warn(msg, FutureWarning)\n"
     ]
    },
    {
     "data": {
      "text/plain": [
       "<matplotlib.collections.PathCollection at 0x2b2e224b880>"
      ]
     },
     "execution_count": 31,
     "metadata": {},
     "output_type": "execute_result"
    },
    {
     "data": {
      "image/png": "[encoded data removed]",
      "text/plain": [
       "<Figure size 640x480 with 1 Axes>"
      ]
     },
     "metadata": {},
     "output_type": "display_data"
    }
   ],
   "source": [
    "from sklearn.metrics import r2_score\n",
    "score2_rf = r2_score(y_test,y_predrf)\n",
    "print(\"R-Square value with Random forest reg\", score2_rf)\n",
    "sns.distplot(y_test-y_predrf)\n",
    "plt.scatter(y_test,y_predrf)"
   ]
  },
  {
   "cell_type": "code",
   "execution_count": null,
   "id": "64525e8f",
   "metadata": {},
   "outputs": [],
   "source": []
  }
 ],
 "metadata": {
  "kernelspec": {
   "display_name": "Python 3 (ipykernel)",
   "language": "python",
   "name": "python3"
  },
  "language_info": {
   "codemirror_mode": {
    "name": "ipython",
    "version": 3
   },
   "file_extension": ".py",
   "mimetype": "text/x-python",
   "name": "python",
   "nbconvert_exporter": "python",
   "pygments_lexer": "ipython3",
   "version": "3.9.13"
  }
 },
 "nbformat": 4,
 "nbformat_minor": 5
}
